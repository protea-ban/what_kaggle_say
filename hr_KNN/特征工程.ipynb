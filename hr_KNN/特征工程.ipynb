{
 "cells": [
  {
   "cell_type": "code",
   "execution_count": 1,
   "metadata": {
    "collapsed": true
   },
   "outputs": [],
   "source": [
    "import pandas as pd\n",
    "import numpy as np\n",
    "from sklearn.preprocessing import MinMaxScaler, StandardScaler\n",
    "from sklearn.preprocessing import LabelEncoder, OneHotEncoder\n",
    "from sklearn.preprocessing import Normalizer\n",
    "from sklearn.discriminant_analysis import LinearDiscriminantAnalysis\n",
    "from sklearn.decomposition import PCA"
   ]
  },
  {
   "cell_type": "code",
   "execution_count": 2,
   "outputs": [
    {
     "data": {
      "text/plain": "{'low': 0, 'medium': 1, 'high': 2}"
     },
     "execution_count": 2,
     "metadata": {},
     "output_type": "execute_result"
    }
   ],
   "source": [
    "d = dict([(\"low\", 0),(\"medium\", 1),(\"high\", 2)])\n",
    "d"
   ],
   "metadata": {
    "collapsed": false,
    "pycharm": {
     "name": "#%%\n"
    }
   }
  },
  {
   "cell_type": "code",
   "execution_count": 4,
   "metadata": {},
   "outputs": [
    {
     "name": "stdout",
     "output_type": "stream",
     "text": [
      "0\n",
      "KNN -ACC: 0.9767751972441382\n",
      "KNN -REC: 0.9652092148566056\n",
      "KNN -F1: 0.9515643105446119\n",
      "1\n",
      "KNN -ACC: 0.948\n",
      "KNN -REC: 0.9108910891089109\n",
      "KNN -F1: 0.8919667590027701\n",
      "2\n",
      "KNN -ACC: 0.9553333333333334\n",
      "KNN -REC: 0.9308005427408412\n",
      "KNN -F1: 0.9110225763612217\n"
     ]
    }
   ],
   "source": [
    "#sl:satisfaction_level---False:MinMaxScaler;True:StandardScaler\n",
    "#le:last_evaluation---False:MinMaxScaler;True:StandardScaler\n",
    "#npr:number_project---False:MinMaxScaler;True:StandardScaler\n",
    "#amh:average_monthly_hours--False:MinMaxScaler;True:StandardScaler\n",
    "#tsc:time_spend_company--False:MinMaxScaler;True:StandardScaler\n",
    "#wa:Work_accident--False:MinMaxScaler;True:StandardScaler\n",
    "#pl5:promotion_last_5years--False:MinMaxScaler;True:StandardScaler\n",
    "#dp:department--False:LabelEncoding;True:OneHotEncoding\n",
    "#slr:salary--False:LabelEncoding;True:OneHotEncoding\n",
    "def hr_preprocessing(sl=False,le=False,npr=False,amh=False,tsc=False,wa=False,pl5=False,dp=False,slr=False,lower_d=False,ld_n=1):\n",
    "    # 1.清洗数据\n",
    "    df = pd.read_csv(\"./data/HR.csv\")\n",
    "    df = df.dropna(subset=[\"satisfaction_level\", \"last_evaluation\"])\n",
    "    df = df[df[\"satisfaction_level\"]<=1][df[\"salary\"]!=\"nme\"]\n",
    "    # 2.得到标注\n",
    "    label = df[\"left\"]\n",
    "    df = df.drop(\"left\", axis=1)\n",
    "    # 3.特征选择：这里选择全部特征\n",
    "    # 4.特征处理\n",
    "    scaler_lst = [sl,le,npr,amh,tsc,wa,pl5]\n",
    "    column_lst = [\"satisfaction_level\",\"last_evaluation\",\"number_project\",\\\n",
    "                \"average_monthly_hours\",\"time_spend_company\",\"Work_accident\",\\\n",
    "                \"promotion_last_5years\"]\n",
    "    for i in range(len(scaler_lst)):\n",
    "        # 传值为False：归一化\n",
    "        if not scaler_lst[i]:\n",
    "            df[column_lst[i]] = MinMaxScaler().fit_transform(df[column_lst[i]].values.reshape(-1,1)).reshape(1,-1)[0]\n",
    "        else:\n",
    "            df[column_lst[i]] = StandardScaler().fit_transform(df[column_lst[i]].values.reshape(-1,1)).reshape(1,-1)[0]\n",
    "    \n",
    "    # 另外两个特征\n",
    "    scaler_lst=[slr,dp]\n",
    "    column_lst=[\"salary\",\"department\"]\n",
    "    for i in range(len(scaler_lst)):\n",
    "        if not scaler_lst[i]:\n",
    "            if column_lst[i] == \"salary\":\n",
    "                df[column_lst[i]] = [map_salary(s) for s in df[\"salary\"].values]\n",
    "            else:\n",
    "                df[column_lst[i]] = LabelEncoder().fit_transform(df[column_lst[i]])\n",
    "            df[column_lst[i]] = MinMaxScaler().fit_transform(df[column_lst[i]].values.reshape(-1,1)).reshape(1,-1)[0]\n",
    "        \n",
    "        else:\n",
    "            df = pd.get_dummies(df, columns=[column_lst[i]])\n",
    "            \n",
    "    if lower_d:\n",
    "        return PCA(n_components=ld_n).fit_transform(df.values), label\n",
    "    \n",
    "    return df,label\n",
    "\n",
    "d = dict([(\"low\", 0),(\"medium\", 1),(\"high\", 2)])        \n",
    "def map_salary(s):\n",
    "    return d.get(s,0)\n",
    "\n",
    "def hr_modeling(features,label):\n",
    "    from sklearn.model_selection import train_test_split\n",
    "    f_v = features.values\n",
    "    f_names = features.columns.values\n",
    "    l_v = label.values\n",
    "    X_tt, X_validation,Y_tt,Y_validation = train_test_split(f_v,l_v,test_size = 0.2)\n",
    "    X_train,X_test,Y_train,Y_test = train_test_split(X_tt,Y_tt,test_size=0.25)\n",
    "    \n",
    "    # KNN\n",
    "    from sklearn.neighbors import NearestNeighbors, KNeighborsClassifier\n",
    "    from sklearn.metrics import accuracy_score, recall_score, f1_score\n",
    "    import joblib\n",
    "    \n",
    "    models = []\n",
    "    models.append((\"KNN\", KNeighborsClassifier(n_neighbors=3)))\n",
    "    \n",
    "    for clf_name, clf in models:\n",
    "        clf.fit(X_train, Y_train)\n",
    "        xy_lst = [(X_train,Y_train),(X_validation, Y_validation),(X_test, Y_test)]\n",
    "        for i in range(len(xy_lst)):\n",
    "            X_part = xy_lst[i][0]\n",
    "            Y_part = xy_lst[i][1]\n",
    "            Y_pred = clf.predict(X_part)\n",
    "            print(i)\n",
    "            print(clf_name,\"-ACC:\", accuracy_score(Y_part, Y_pred))\n",
    "            print(clf_name,\"-REC:\", recall_score(Y_part, Y_pred))\n",
    "            print(clf_name,\"-F1:\", f1_score(Y_part, Y_pred))\n",
    "    \n",
    "#     knn_clf = KNeighborsClassifier(n_neighbors=5)\n",
    "#     knn_clf.fit(X_train, Y_train)\n",
    "#     Y_pred = knn_clf.predict(X_validation)\n",
    "    \n",
    "#     # 测试运行结果\n",
    "#     from sklearn.metrics import accuracy_score, recall_score, f1_score\n",
    "#     print(\"ACC:\", accuracy_score(Y_validation, Y_pred))\n",
    "#     print(\"REC:\", recall_score(Y_validation, Y_pred))\n",
    "#     print(\"F-Score:\", f1_score(Y_validation, Y_pred))\n",
    "    \n",
    "#     # 保存运行结果\n",
    "    \n",
    "#     joblib.dump(knn_clf, \"knn_clf\")\n",
    "    \n",
    "#     # 获取保存结果\n",
    "#     knn_clf = joblib.load(\"knn_clf\")\n",
    "\n",
    "def main():\n",
    "    features, label = hr_preprocessing()\n",
    "    hr_modeling(features,label)\n",
    "    \n",
    "main()\n",
    "\n"
   ]
  },
  {
   "cell_type": "code",
   "execution_count": null,
   "metadata": {
    "collapsed": true
   },
   "outputs": [],
   "source": []
  }
 ],
 "metadata": {
  "kernelspec": {
   "name": "python3",
   "language": "python",
   "display_name": "Python 3"
  },
  "language_info": {
   "codemirror_mode": {
    "name": "ipython",
    "version": 3
   },
   "file_extension": ".py",
   "mimetype": "text/x-python",
   "name": "python",
   "nbconvert_exporter": "python",
   "pygments_lexer": "ipython3",
   "version": "3.6.2"
  }
 },
 "nbformat": 4,
 "nbformat_minor": 2
}
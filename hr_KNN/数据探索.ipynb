{
 "cells": [
  {
   "cell_type": "code",
   "execution_count": 1,
   "metadata": {
    "collapsed": true
   },
   "outputs": [],
   "source": [
    "import pandas as pd\n",
    "import numpy as np"
   ]
  },
  {
   "cell_type": "code",
   "execution_count": 22,
   "outputs": [],
   "source": [
    "import matplotlib.pyplot as plt\n",
    "import seaborn as sns"
   ],
   "metadata": {
    "collapsed": false,
    "pycharm": {
     "name": "#%%\n"
    }
   }
  },
  {
   "cell_type": "code",
   "execution_count": 2,
   "metadata": {
    "collapsed": true
   },
   "outputs": [],
   "source": [
    "df = pd.read_csv(\"./data/HR.csv\")"
   ]
  },
  {
   "cell_type": "code",
   "execution_count": 3,
   "outputs": [
    {
     "data": {
      "text/plain": "satisfaction_level       0.000133\nlast_evaluation          0.000000\nnumber_project           0.000000\naverage_monthly_hours    0.000000\ntime_spend_company       0.000000\nWork_accident            0.000000\nleft                     0.000000\npromotion_last_5years    0.000000\ndepartment               0.000000\nsalary                   0.000000\ndtype: float64"
     },
     "execution_count": 3,
     "metadata": {},
     "output_type": "execute_result"
    }
   ],
   "source": [
    "df.isnull().mean()"
   ],
   "metadata": {
    "collapsed": false,
    "pycharm": {
     "name": "#%%\n"
    }
   }
  },
  {
   "cell_type": "code",
   "execution_count": 7,
   "outputs": [
    {
     "data": {
      "text/plain": "   satisfaction_level  last_evaluation  number_project  average_monthly_hours  \\\n0                0.38             0.53               2                    157   \n1                0.80             0.86               5                    262   \n2                0.11             0.88               7                    272   \n3                0.72             0.87               5                    223   \n4                0.37             0.52               2                    159   \n\n   time_spend_company  Work_accident  left  promotion_last_5years department  \\\n0                   3              0     1                      0      sales   \n1                   6              0     1                      0      sales   \n2                   4              0     1                      0      sales   \n3                   5              0     1                      0      sales   \n4                   3              0     1                      0      sales   \n\n   salary  \n0     low  \n1  medium  \n2  medium  \n3     low  \n4     low  ",
      "text/html": "<div>\n<style scoped>\n    .dataframe tbody tr th:only-of-type {\n        vertical-align: middle;\n    }\n\n    .dataframe tbody tr th {\n        vertical-align: top;\n    }\n\n    .dataframe thead th {\n        text-align: right;\n    }\n</style>\n<table border=\"1\" class=\"dataframe\">\n  <thead>\n    <tr style=\"text-align: right;\">\n      <th></th>\n      <th>satisfaction_level</th>\n      <th>last_evaluation</th>\n      <th>number_project</th>\n      <th>average_monthly_hours</th>\n      <th>time_spend_company</th>\n      <th>Work_accident</th>\n      <th>left</th>\n      <th>promotion_last_5years</th>\n      <th>department</th>\n      <th>salary</th>\n    </tr>\n  </thead>\n  <tbody>\n    <tr>\n      <th>0</th>\n      <td>0.38</td>\n      <td>0.53</td>\n      <td>2</td>\n      <td>157</td>\n      <td>3</td>\n      <td>0</td>\n      <td>1</td>\n      <td>0</td>\n      <td>sales</td>\n      <td>low</td>\n    </tr>\n    <tr>\n      <th>1</th>\n      <td>0.80</td>\n      <td>0.86</td>\n      <td>5</td>\n      <td>262</td>\n      <td>6</td>\n      <td>0</td>\n      <td>1</td>\n      <td>0</td>\n      <td>sales</td>\n      <td>medium</td>\n    </tr>\n    <tr>\n      <th>2</th>\n      <td>0.11</td>\n      <td>0.88</td>\n      <td>7</td>\n      <td>272</td>\n      <td>4</td>\n      <td>0</td>\n      <td>1</td>\n      <td>0</td>\n      <td>sales</td>\n      <td>medium</td>\n    </tr>\n    <tr>\n      <th>3</th>\n      <td>0.72</td>\n      <td>0.87</td>\n      <td>5</td>\n      <td>223</td>\n      <td>5</td>\n      <td>0</td>\n      <td>1</td>\n      <td>0</td>\n      <td>sales</td>\n      <td>low</td>\n    </tr>\n    <tr>\n      <th>4</th>\n      <td>0.37</td>\n      <td>0.52</td>\n      <td>2</td>\n      <td>159</td>\n      <td>3</td>\n      <td>0</td>\n      <td>1</td>\n      <td>0</td>\n      <td>sales</td>\n      <td>low</td>\n    </tr>\n  </tbody>\n</table>\n</div>"
     },
     "execution_count": 7,
     "metadata": {},
     "output_type": "execute_result"
    }
   ],
   "source": [
    "df.head()"
   ],
   "metadata": {
    "collapsed": false,
    "pycharm": {
     "name": "#%%\n"
    }
   }
  },
  {
   "cell_type": "code",
   "execution_count": 5,
   "outputs": [
    {
     "data": {
      "text/plain": "0    11428\n1     3574\nName: left, dtype: int64"
     },
     "execution_count": 5,
     "metadata": {},
     "output_type": "execute_result"
    }
   ],
   "source": [
    "df['left'].value_counts()"
   ],
   "metadata": {
    "collapsed": false,
    "pycharm": {
     "name": "#%%\n"
    }
   }
  },
  {
   "cell_type": "code",
   "execution_count": 6,
   "outputs": [
    {
     "data": {
      "text/plain": "0    11428\n1     3574\nName: left, dtype: int64"
     },
     "execution_count": 6,
     "metadata": {},
     "output_type": "execute_result"
    }
   ],
   "source": [
    "df.left.value_counts(dropna=False)"
   ],
   "metadata": {
    "collapsed": false,
    "pycharm": {
     "name": "#%%\n"
    }
   }
  },
  {
   "cell_type": "markdown",
   "metadata": {
    "collapsed": true,
    "pycharm": {
     "name": "#%% md\n"
    }
   },
   "source": [
    "## satisfaction_level"
   ]
  },
  {
   "cell_type": "code",
   "execution_count": 8,
   "metadata": {
    "collapsed": true
   },
   "outputs": [],
   "source": [
    "sl_s = df[\"satisfaction_level\"]"
   ]
  },
  {
   "cell_type": "code",
   "execution_count": 9,
   "metadata": {
    "collapsed": true
   },
   "outputs": [],
   "source": [
    "# 是否为空值\n",
    "sl_null = sl_s.isnull()"
   ]
  },
  {
   "cell_type": "code",
   "execution_count": 10,
   "metadata": {},
   "outputs": [
    {
     "data": {
      "text/plain": "       satisfaction_level  last_evaluation  number_project  \\\n14999                 NaN             0.52               2   \n15000                 NaN        999999.00               2   \n\n       average_monthly_hours  time_spend_company  Work_accident  left  \\\n14999                    158                   3              0     1   \n15000                    158                   3              0     1   \n\n       promotion_last_5years department salary  \n14999                      0    support    low  \n15000                      0       sale    low  ",
      "text/html": "<div>\n<style scoped>\n    .dataframe tbody tr th:only-of-type {\n        vertical-align: middle;\n    }\n\n    .dataframe tbody tr th {\n        vertical-align: top;\n    }\n\n    .dataframe thead th {\n        text-align: right;\n    }\n</style>\n<table border=\"1\" class=\"dataframe\">\n  <thead>\n    <tr style=\"text-align: right;\">\n      <th></th>\n      <th>satisfaction_level</th>\n      <th>last_evaluation</th>\n      <th>number_project</th>\n      <th>average_monthly_hours</th>\n      <th>time_spend_company</th>\n      <th>Work_accident</th>\n      <th>left</th>\n      <th>promotion_last_5years</th>\n      <th>department</th>\n      <th>salary</th>\n    </tr>\n  </thead>\n  <tbody>\n    <tr>\n      <th>14999</th>\n      <td>NaN</td>\n      <td>0.52</td>\n      <td>2</td>\n      <td>158</td>\n      <td>3</td>\n      <td>0</td>\n      <td>1</td>\n      <td>0</td>\n      <td>support</td>\n      <td>low</td>\n    </tr>\n    <tr>\n      <th>15000</th>\n      <td>NaN</td>\n      <td>999999.00</td>\n      <td>2</td>\n      <td>158</td>\n      <td>3</td>\n      <td>0</td>\n      <td>1</td>\n      <td>0</td>\n      <td>sale</td>\n      <td>low</td>\n    </tr>\n  </tbody>\n</table>\n</div>"
     },
     "execution_count": 10,
     "metadata": {},
     "output_type": "execute_result"
    }
   ],
   "source": [
    "# 以TRUE为下标，找到为空的值\n",
    "# df[df['satisfaction_level'].isnull()]\n",
    "df[sl_null]"
   ]
  },
  {
   "cell_type": "code",
   "execution_count": 11,
   "metadata": {
    "collapsed": true
   },
   "outputs": [],
   "source": [
    "# 丢弃空值\n",
    "sl_s = sl_s.dropna()"
   ]
  },
  {
   "cell_type": "code",
   "execution_count": 12,
   "metadata": {
    "collapsed": true
   },
   "outputs": [],
   "source": [
    "# 填充空值\n",
    "sl_s = sl_s.fillna(1)"
   ]
  },
  {
   "cell_type": "code",
   "execution_count": 13,
   "outputs": [
    {
     "data": {
      "text/plain": "count    15000.000000\nmean         0.612839\nstd          0.248623\nmin          0.090000\n25%          0.440000\n50%          0.640000\n75%          0.820000\nmax          1.000000\nName: satisfaction_level, dtype: float64"
     },
     "execution_count": 13,
     "metadata": {},
     "output_type": "execute_result"
    }
   ],
   "source": [
    "sl_s.describe()"
   ],
   "metadata": {
    "collapsed": false,
    "pycharm": {
     "name": "#%%\n"
    }
   }
  },
  {
   "cell_type": "code",
   "execution_count": 14,
   "metadata": {},
   "outputs": [
    {
     "data": {
      "text/plain": "-0.47643761717258093"
     },
     "execution_count": 14,
     "metadata": {},
     "output_type": "execute_result"
    }
   ],
   "source": [
    "sl_s.skew() # 偏度"
   ]
  },
  {
   "cell_type": "code",
   "execution_count": 15,
   "metadata": {},
   "outputs": [
    {
     "data": {
      "text/plain": "-0.6706959323886252"
     },
     "execution_count": 15,
     "metadata": {},
     "output_type": "execute_result"
    }
   ],
   "source": [
    "sl_s.kurt() # 峰度"
   ]
  },
  {
   "cell_type": "code",
   "execution_count": 17,
   "outputs": [],
   "source": [
    "%matplotlib inline"
   ],
   "metadata": {
    "collapsed": false,
    "pycharm": {
     "name": "#%%\n"
    }
   }
  },
  {
   "cell_type": "code",
   "execution_count": 30,
   "metadata": {},
   "outputs": [
    {
     "data": {
      "text/plain": "<Figure size 432x288 with 1 Axes>",
      "image/png": "[encoded data removed]"
     },
     "metadata": {
      "needs_background": "light"
     },
     "output_type": "display_data"
    }
   ],
   "source": [
    "# 直方图示例\n",
    "a, bins = np.histogram(sl_s.values, bins=np.arange(0.0,1.1,0.1))\n",
    "plt.hist(sl_s.values, bins=bins)\n",
    "plt.title('satisfaction_level')\n",
    "plt.show()"
   ]
  },
  {
   "cell_type": "markdown",
   "metadata": {},
   "source": [
    "## last_evaluation"
   ]
  },
  {
   "cell_type": "code",
   "execution_count": 32,
   "metadata": {
    "collapsed": true
   },
   "outputs": [],
   "source": [
    "le_s = df[\"last_evaluation\"]"
   ]
  },
  {
   "cell_type": "code",
   "execution_count": 33,
   "metadata": {
    "collapsed": true
   },
   "outputs": [],
   "source": [
    "le_null = le_s[le_s.isnull()]"
   ]
  },
  {
   "cell_type": "code",
   "execution_count": 34,
   "outputs": [
    {
     "data": {
      "text/plain": "count     15002.000000\nmean         67.373732\nstd        8164.407524\nmin           0.360000\n25%           0.560000\n50%           0.720000\n75%           0.870000\nmax      999999.000000\nName: last_evaluation, dtype: float64"
     },
     "execution_count": 34,
     "metadata": {},
     "output_type": "execute_result"
    }
   ],
   "source": [
    "le_s.describe()"
   ],
   "metadata": {
    "collapsed": false,
    "pycharm": {
     "name": "#%%\n"
    }
   }
  },
  {
   "cell_type": "code",
   "execution_count": 35,
   "metadata": {},
   "outputs": [
    {
     "data": {
      "text/plain": "122.48265175204614"
     },
     "execution_count": 35,
     "metadata": {},
     "output_type": "execute_result"
    }
   ],
   "source": [
    "le_s.skew()"
   ]
  },
  {
   "cell_type": "code",
   "execution_count": 36,
   "metadata": {},
   "outputs": [
    {
     "data": {
      "text/plain": "15001.999986807796"
     },
     "execution_count": 36,
     "metadata": {},
     "output_type": "execute_result"
    }
   ],
   "source": [
    "le_s.kurt()"
   ]
  },
  {
   "cell_type": "code",
   "execution_count": 37,
   "metadata": {},
   "outputs": [
    {
     "data": {
      "text/plain": "15000    999999.0\nName: last_evaluation, dtype: float64"
     },
     "execution_count": 37,
     "metadata": {},
     "output_type": "execute_result"
    }
   ],
   "source": [
    "le_s[le_s>1]"
   ]
  },
  {
   "cell_type": "code",
   "execution_count": 38,
   "metadata": {
    "collapsed": true
   },
   "outputs": [],
   "source": [
    "# 异常值过滤\n",
    "q_low = le_s.quantile(q=0.25) # 下四分位数\n",
    "q_high = le_s.quantile(q=0.75) # 上四分位数\n",
    "k = 1.5\n",
    "q_interval = q_high - q_low\n",
    "\n",
    "le_s = le_s[le_s<q_high+k*q_interval][le_s>q_low-k*q_interval]"
   ]
  },
  {
   "cell_type": "code",
   "execution_count": 39,
   "metadata": {},
   "outputs": [
    {
     "data": {
      "text/plain": "15001"
     },
     "execution_count": 39,
     "metadata": {},
     "output_type": "execute_result"
    }
   ],
   "source": [
    "len(le_s)"
   ]
  },
  {
   "cell_type": "code",
   "execution_count": 40,
   "outputs": [
    {
     "data": {
      "text/plain": "count    15001.000000\nmean         0.716068\nstd          0.171185\nmin          0.360000\n25%          0.560000\n50%          0.720000\n75%          0.870000\nmax          1.000000\nName: last_evaluation, dtype: float64"
     },
     "execution_count": 40,
     "metadata": {},
     "output_type": "execute_result"
    }
   ],
   "source": [
    "le_s.describe()"
   ],
   "metadata": {
    "collapsed": false,
    "pycharm": {
     "name": "#%%\n"
    }
   }
  },
  {
   "cell_type": "code",
   "execution_count": 42,
   "metadata": {},
   "outputs": [
    {
     "data": {
      "text/plain": "<Figure size 432x288 with 1 Axes>",
      "image/png": "[encoded data removed]"
     },
     "metadata": {
      "needs_background": "light"
     },
     "output_type": "display_data"
    }
   ],
   "source": [
    "# 直方图示例\n",
    "l_2, bins2 = np.histogram(le_s.values, bins=np.arange(0.0,1.1,0.1))\n",
    "plt.hist(le_s.values, bins=bins2)\n",
    "plt.title('last_evaluation')\n",
    "plt.show()"
   ]
  },
  {
   "cell_type": "markdown",
   "metadata": {},
   "source": [
    "## number project"
   ]
  },
  {
   "cell_type": "code",
   "execution_count": 43,
   "metadata": {
    "collapsed": true
   },
   "outputs": [],
   "source": [
    "np_s = df[\"number_project\"]"
   ]
  },
  {
   "cell_type": "code",
   "execution_count": 44,
   "metadata": {
    "collapsed": true
   },
   "outputs": [],
   "source": [
    "np_null = np_s[np_s.isnull()]"
   ]
  },
  {
   "cell_type": "code",
   "execution_count": 45,
   "outputs": [
    {
     "data": {
      "text/plain": "count    15002.000000\nmean         3.802693\nstd          1.232733\nmin          2.000000\n25%          3.000000\n50%          4.000000\n75%          5.000000\nmax          7.000000\nName: number_project, dtype: float64"
     },
     "execution_count": 45,
     "metadata": {},
     "output_type": "execute_result"
    }
   ],
   "source": [
    "np_s.describe()"
   ],
   "metadata": {
    "collapsed": false,
    "pycharm": {
     "name": "#%%\n"
    }
   }
  },
  {
   "cell_type": "code",
   "execution_count": 46,
   "metadata": {},
   "outputs": [
    {
     "data": {
      "text/plain": "0.3377744235231047"
     },
     "execution_count": 46,
     "metadata": {},
     "output_type": "execute_result"
    }
   ],
   "source": [
    "np_s.skew()"
   ]
  },
  {
   "cell_type": "code",
   "execution_count": 47,
   "metadata": {},
   "outputs": [
    {
     "data": {
      "text/plain": "-0.49580962709450604"
     },
     "execution_count": 47,
     "metadata": {},
     "output_type": "execute_result"
    }
   ],
   "source": [
    "np_s.kurt()"
   ]
  },
  {
   "cell_type": "code",
   "execution_count": 48,
   "metadata": {},
   "outputs": [
    {
     "data": {
      "text/plain": "4    4365\n3    4055\n5    2761\n2    2391\n6    1174\n7     256\nName: number_project, dtype: int64"
     },
     "execution_count": 48,
     "metadata": {},
     "output_type": "execute_result"
    }
   ],
   "source": [
    "np_s.value_counts(dropna=False)"
   ]
  },
  {
   "cell_type": "code",
   "execution_count": 49,
   "metadata": {},
   "outputs": [
    {
     "data": {
      "text/plain": "4    0.290961\n3    0.270297\n5    0.184042\n2    0.159379\n6    0.078256\n7    0.017064\nName: number_project, dtype: float64"
     },
     "execution_count": 49,
     "metadata": {},
     "output_type": "execute_result"
    }
   ],
   "source": [
    "np_s.value_counts(normalize=True)"
   ]
  },
  {
   "cell_type": "code",
   "execution_count": 52,
   "metadata": {},
   "outputs": [
    {
     "data": {
      "text/plain": "<matplotlib.axes._subplots.AxesSubplot at 0x18fc2678c70>"
     },
     "execution_count": 52,
     "metadata": {},
     "output_type": "execute_result"
    },
    {
     "data": {
      "text/plain": "<Figure size 432x288 with 1 Axes>",
      "image/png": "[encoded data removed]"
     },
     "metadata": {
      "needs_background": "light"
     },
     "output_type": "display_data"
    }
   ],
   "source": [
    "np_s.value_counts(normalize=True).sort_index().plot(kind='bar')"
   ]
  },
  {
   "cell_type": "markdown",
   "metadata": {},
   "source": [
    "## average_montly_hours"
   ]
  },
  {
   "cell_type": "code",
   "execution_count": 54,
   "metadata": {
    "collapsed": true
   },
   "outputs": [],
   "source": [
    "amh_s = df[\"average_monthly_hours\"]"
   ]
  },
  {
   "cell_type": "code",
   "execution_count": 59,
   "outputs": [
    {
     "data": {
      "text/plain": "{'count': 15002.0,\n 'mean': 201.0417277696307,\n 'std': 49.94181527437911,\n 'min': 96.0,\n '25%': 156.0,\n '50%': 200.0,\n '75%': 245.0,\n 'max': 310.0}"
     },
     "execution_count": 59,
     "metadata": {},
     "output_type": "execute_result"
    }
   ],
   "source": [
    "amh_s.describe().to_dict()"
   ],
   "metadata": {
    "collapsed": false,
    "pycharm": {
     "name": "#%%\n"
    }
   }
  },
  {
   "cell_type": "code",
   "execution_count": 60,
   "metadata": {},
   "outputs": [
    {
     "data": {
      "text/plain": "0.05322458779916304"
     },
     "execution_count": 60,
     "metadata": {},
     "output_type": "execute_result"
    }
   ],
   "source": [
    "amh_s.skew()"
   ]
  },
  {
   "cell_type": "code",
   "execution_count": 61,
   "metadata": {},
   "outputs": [
    {
     "data": {
      "text/plain": "-1.1350158577565719"
     },
     "execution_count": 61,
     "metadata": {},
     "output_type": "execute_result"
    }
   ],
   "source": [
    "amh_s.kurt()"
   ]
  },
  {
   "cell_type": "code",
   "execution_count": 62,
   "metadata": {
    "collapsed": true
   },
   "outputs": [],
   "source": [
    "# 去除异常值\n",
    "amh_s=amh_s[amh_s<amh_s.quantile(0.75)+1.5*(amh_s.quantile(0.75)-amh_s.quantile(0.25))][amh_s>amh_s.quantile(0.25)-1.5*(amh_s.quantile(0.75)-amh_s.quantile(0.25))]"
   ]
  },
  {
   "cell_type": "code",
   "execution_count": 63,
   "metadata": {
    "collapsed": true
   },
   "outputs": [],
   "source": [
    "interval = 10"
   ]
  },
  {
   "cell_type": "code",
   "execution_count": 65,
   "metadata": {},
   "outputs": [
    {
     "data": {
      "text/plain": "(array([ 168.,  171.,  147.,  807., 1153., 1234., 1075.,  824.,  818.,\n         758.,  751.,  738.,  856.,  824.,  987., 1002., 1045.,  935.,\n         299.,  193.,  131.,   86.]),\n array([ 96, 106, 116, 126, 136, 146, 156, 166, 176, 186, 196, 206, 216,\n        226, 236, 246, 256, 266, 276, 286, 296, 306, 316]),\n <a list of 22 Patch objects>)"
     },
     "execution_count": 65,
     "metadata": {},
     "output_type": "execute_result"
    },
    {
     "data": {
      "text/plain": "<Figure size 432x288 with 1 Axes>",
      "image/png": "[encoded data removed]"
     },
     "metadata": {
      "needs_background": "light"
     },
     "output_type": "display_data"
    }
   ],
   "source": [
    "l_3, bins3 = np.histogram(amh_s.values, bins=np.arange(amh_s.min(), amh_s.max()+interval, interval))\n",
    "plt.hist(amh_s.values, bins=bins3)"
   ]
  },
  {
   "cell_type": "code",
   "execution_count": 66,
   "metadata": {},
   "outputs": [
    {
     "data": {
      "text/plain": "(146.0, 156.0]     1277\n(136.0, 146.0]     1159\n(256.0, 266.0]     1063\n(236.0, 246.0]     1006\n(156.0, 166.0]      995\n(246.0, 256.0]      987\n(126.0, 136.0]      886\n(216.0, 226.0]      873\n(266.0, 276.0]      860\n(166.0, 176.0]      832\n(226.0, 236.0]      814\n(176.0, 186.0]      813\n(186.0, 196.0]      761\n(196.0, 206.0]      755\n(206.0, 216.0]      731\n(276.0, 286.0]      319\n(95.999, 106.0]     187\n(286.0, 296.0]      164\n(116.0, 126.0]      162\n(106.0, 116.0]      162\n(296.0, 306.0]      128\n(306.0, 316.0]       68\nName: average_monthly_hours, dtype: int64"
     },
     "execution_count": 66,
     "metadata": {},
     "output_type": "execute_result"
    }
   ],
   "source": [
    "# 取在区间内时的数量\n",
    "amh_s.value_counts(bins=np.arange(amh_s.min(), amh_s.max()+interval, interval))"
   ]
  },
  {
   "cell_type": "markdown",
   "metadata": {},
   "source": [
    "## Time Spend Company"
   ]
  },
  {
   "cell_type": "code",
   "execution_count": 67,
   "metadata": {
    "collapsed": true
   },
   "outputs": [],
   "source": [
    "tsc_s = df[\"time_spend_company\"]"
   ]
  },
  {
   "cell_type": "code",
   "execution_count": 68,
   "metadata": {},
   "outputs": [
    {
     "data": {
      "text/plain": "2     3245\n3     6445\n4     2557\n5     1473\n6      718\n7      188\n8      162\n10     214\nName: time_spend_company, dtype: int64"
     },
     "execution_count": 68,
     "metadata": {},
     "output_type": "execute_result"
    }
   ],
   "source": [
    "tsc_s.value_counts().sort_index()"
   ]
  },
  {
   "cell_type": "markdown",
   "metadata": {},
   "source": [
    "## Work Accident"
   ]
  },
  {
   "cell_type": "code",
   "execution_count": 69,
   "metadata": {
    "collapsed": true
   },
   "outputs": [],
   "source": [
    "wa_s = df[\"Work_accident\"]"
   ]
  },
  {
   "cell_type": "code",
   "execution_count": 70,
   "metadata": {},
   "outputs": [
    {
     "data": {
      "text/plain": "0    12833\n1     2169\nName: Work_accident, dtype: int64"
     },
     "execution_count": 70,
     "metadata": {},
     "output_type": "execute_result"
    }
   ],
   "source": [
    "wa_s.value_counts()"
   ]
  },
  {
   "cell_type": "markdown",
   "metadata": {},
   "source": [
    "## Left"
   ]
  },
  {
   "cell_type": "code",
   "execution_count": 71,
   "metadata": {
    "collapsed": true
   },
   "outputs": [],
   "source": [
    "l_s = df[\"left\"]"
   ]
  },
  {
   "cell_type": "code",
   "execution_count": 72,
   "metadata": {},
   "outputs": [
    {
     "data": {
      "text/plain": "0    11428\n1     3574\nName: left, dtype: int64"
     },
     "execution_count": 72,
     "metadata": {},
     "output_type": "execute_result"
    }
   ],
   "source": [
    "l_s.value_counts()"
   ]
  },
  {
   "cell_type": "markdown",
   "metadata": {},
   "source": [
    "## promotion last 5years"
   ]
  },
  {
   "cell_type": "code",
   "execution_count": 73,
   "metadata": {
    "collapsed": true
   },
   "outputs": [],
   "source": [
    "pl5_s = df[\"promotion_last_5years\"]"
   ]
  },
  {
   "cell_type": "code",
   "execution_count": 74,
   "metadata": {},
   "outputs": [
    {
     "data": {
      "text/plain": "0    14683\n1      319\nName: promotion_last_5years, dtype: int64"
     },
     "execution_count": 74,
     "metadata": {},
     "output_type": "execute_result"
    }
   ],
   "source": [
    "pl5_s.value_counts()"
   ]
  },
  {
   "cell_type": "markdown",
   "metadata": {},
   "source": [
    "## salary"
   ]
  },
  {
   "cell_type": "code",
   "execution_count": 75,
   "metadata": {
    "collapsed": true
   },
   "outputs": [],
   "source": [
    "s_s = df[\"salary\"]"
   ]
  },
  {
   "cell_type": "code",
   "execution_count": 76,
   "metadata": {},
   "outputs": [
    {
     "data": {
      "text/plain": "low       7318\nmedium    6446\nhigh      1237\nnme          1\nName: salary, dtype: int64"
     },
     "execution_count": 76,
     "metadata": {},
     "output_type": "execute_result"
    }
   ],
   "source": [
    "s_s.value_counts()"
   ]
  },
  {
   "cell_type": "code",
   "execution_count": 77,
   "metadata": {
    "collapsed": true
   },
   "outputs": [],
   "source": [
    "s_s = s_s.where(s_s!=\"nme\")"
   ]
  },
  {
   "cell_type": "code",
   "execution_count": 78,
   "metadata": {},
   "outputs": [
    {
     "data": {
      "text/plain": "low       7318\nmedium    6446\nhigh      1237\nName: salary, dtype: int64"
     },
     "execution_count": 78,
     "metadata": {},
     "output_type": "execute_result"
    }
   ],
   "source": [
    "s_s.value_counts()"
   ]
  },
  {
   "cell_type": "markdown",
   "metadata": {},
   "source": [
    "## department"
   ]
  },
  {
   "cell_type": "code",
   "execution_count": 79,
   "metadata": {
    "collapsed": true
   },
   "outputs": [],
   "source": [
    "d_s = df[\"department\"]"
   ]
  },
  {
   "cell_type": "code",
   "execution_count": 80,
   "metadata": {},
   "outputs": [
    {
     "data": {
      "text/plain": "sales          4140\ntechnical      2720\nsupport        2230\nIT             1227\nproduct_mng     902\nmarketing       858\nRandD           787\naccounting      767\nhr              739\nmanagement      630\nsale              2\nName: department, dtype: int64"
     },
     "execution_count": 80,
     "metadata": {},
     "output_type": "execute_result"
    }
   ],
   "source": [
    "d_s.value_counts()"
   ]
  },
  {
   "cell_type": "code",
   "execution_count": 81,
   "metadata": {},
   "outputs": [
    {
     "data": {
      "text/plain": "sales          0.275963\ntechnical      0.181309\nsupport        0.148647\nIT             0.081789\nproduct_mng    0.060125\nmarketing      0.057192\nRandD          0.052460\naccounting     0.051127\nhr             0.049260\nmanagement     0.041994\nsale           0.000133\nName: department, dtype: float64"
     },
     "execution_count": 81,
     "metadata": {},
     "output_type": "execute_result"
    }
   ],
   "source": [
    "d_s.value_counts(normalize=True)"
   ]
  },
  {
   "cell_type": "markdown",
   "metadata": {},
   "source": [
    "# 对比分析"
   ]
  },
  {
   "cell_type": "code",
   "execution_count": 86,
   "metadata": {
    "collapsed": true
   },
   "outputs": [],
   "source": [
    "df = df.dropna(how=\"any\", axis=0) # 按行删除任意有空值的行"
   ]
  },
  {
   "cell_type": "code",
   "execution_count": 82,
   "metadata": {},
   "outputs": [
    {
     "name": "stderr",
     "output_type": "stream",
     "text": [
      "<ipython-input-82-b1d439e5fe2d>:1: UserWarning: Boolean Series key will be reindexed to match DataFrame index.\n",
      "  df = df[df[\"last_evaluation\"]<=1][df[\"salary\"]!=\"nme\"][df[\"department\"]!=\"sale\"] # 去掉异常值\n"
     ]
    }
   ],
   "source": [
    "df = df[df[\"last_evaluation\"]<=1][df[\"salary\"]!=\"nme\"][df[\"department\"]!=\"sale\"] # 去掉异常值"
   ]
  },
  {
   "cell_type": "code",
   "execution_count": 83,
   "metadata": {},
   "outputs": [
    {
     "data": {
      "text/plain": "15000"
     },
     "execution_count": 83,
     "metadata": {},
     "output_type": "execute_result"
    }
   ],
   "source": [
    "len(df)"
   ]
  },
  {
   "cell_type": "code",
   "execution_count": 84,
   "metadata": {
    "collapsed": true
   },
   "outputs": [],
   "source": [
    "sub_df_1 = df.loc[:, [\"satisfaction_level\", \"department\"]] # 取出两个值相关的数据"
   ]
  },
  {
   "cell_type": "code",
   "execution_count": 85,
   "metadata": {},
   "outputs": [
    {
     "data": {
      "text/plain": "             satisfaction_level\ndepartment                     \nIT                     0.618142\nRandD                  0.619822\naccounting             0.582151\nhr                     0.598809\nmanagement             0.621349\nmarketing              0.618601\nproduct_mng            0.619634\nsales                  0.614447\nsupport                0.618300\ntechnical              0.607897",
      "text/html": "<div>\n<style scoped>\n    .dataframe tbody tr th:only-of-type {\n        vertical-align: middle;\n    }\n\n    .dataframe tbody tr th {\n        vertical-align: top;\n    }\n\n    .dataframe thead th {\n        text-align: right;\n    }\n</style>\n<table border=\"1\" class=\"dataframe\">\n  <thead>\n    <tr style=\"text-align: right;\">\n      <th></th>\n      <th>satisfaction_level</th>\n    </tr>\n    <tr>\n      <th>department</th>\n      <th></th>\n    </tr>\n  </thead>\n  <tbody>\n    <tr>\n      <th>IT</th>\n      <td>0.618142</td>\n    </tr>\n    <tr>\n      <th>RandD</th>\n      <td>0.619822</td>\n    </tr>\n    <tr>\n      <th>accounting</th>\n      <td>0.582151</td>\n    </tr>\n    <tr>\n      <th>hr</th>\n      <td>0.598809</td>\n    </tr>\n    <tr>\n      <th>management</th>\n      <td>0.621349</td>\n    </tr>\n    <tr>\n      <th>marketing</th>\n      <td>0.618601</td>\n    </tr>\n    <tr>\n      <th>product_mng</th>\n      <td>0.619634</td>\n    </tr>\n    <tr>\n      <th>sales</th>\n      <td>0.614447</td>\n    </tr>\n    <tr>\n      <th>support</th>\n      <td>0.618300</td>\n    </tr>\n    <tr>\n      <th>technical</th>\n      <td>0.607897</td>\n    </tr>\n  </tbody>\n</table>\n</div>"
     },
     "execution_count": 85,
     "metadata": {},
     "output_type": "execute_result"
    }
   ],
   "source": [
    "sub_df_1.groupby(\"department\").mean()"
   ]
  },
  {
   "cell_type": "code",
   "execution_count": 86,
   "metadata": {},
   "outputs": [
    {
     "data": {
      "text/plain": "                 left\ndepartment           \nIT           0.222494\nRandD        0.153748\naccounting   0.265971\nhr           0.290934\nmanagement   0.144444\nmarketing    0.236597\nproduct_mng  0.219512\nsales        0.244928\nsupport      0.249327\ntechnical    0.256250",
      "text/html": "<div>\n<style scoped>\n    .dataframe tbody tr th:only-of-type {\n        vertical-align: middle;\n    }\n\n    .dataframe tbody tr th {\n        vertical-align: top;\n    }\n\n    .dataframe thead th {\n        text-align: right;\n    }\n</style>\n<table border=\"1\" class=\"dataframe\">\n  <thead>\n    <tr style=\"text-align: right;\">\n      <th></th>\n      <th>left</th>\n    </tr>\n    <tr>\n      <th>department</th>\n      <th></th>\n    </tr>\n  </thead>\n  <tbody>\n    <tr>\n      <th>IT</th>\n      <td>0.222494</td>\n    </tr>\n    <tr>\n      <th>RandD</th>\n      <td>0.153748</td>\n    </tr>\n    <tr>\n      <th>accounting</th>\n      <td>0.265971</td>\n    </tr>\n    <tr>\n      <th>hr</th>\n      <td>0.290934</td>\n    </tr>\n    <tr>\n      <th>management</th>\n      <td>0.144444</td>\n    </tr>\n    <tr>\n      <th>marketing</th>\n      <td>0.236597</td>\n    </tr>\n    <tr>\n      <th>product_mng</th>\n      <td>0.219512</td>\n    </tr>\n    <tr>\n      <th>sales</th>\n      <td>0.244928</td>\n    </tr>\n    <tr>\n      <th>support</th>\n      <td>0.249327</td>\n    </tr>\n    <tr>\n      <th>technical</th>\n      <td>0.256250</td>\n    </tr>\n  </tbody>\n</table>\n</div>"
     },
     "execution_count": 86,
     "metadata": {},
     "output_type": "execute_result"
    }
   ],
   "source": [
    "df.loc[:, [\"left\", \"department\"]].groupby(\"department\").mean()"
   ]
  },
  {
   "cell_type": "code",
   "execution_count": 87,
   "metadata": {
    "collapsed": true
   },
   "outputs": [],
   "source": [
    "sub_df_3 = df.loc[:, [\"last_evaluation\", \"department\"]]"
   ]
  },
  {
   "cell_type": "code",
   "execution_count": 88,
   "metadata": {},
   "outputs": [
    {
     "data": {
      "text/plain": "<pandas.core.groupby.generic.DataFrameGroupBy object at 0x0000018FC27FFE80>"
     },
     "execution_count": 88,
     "metadata": {},
     "output_type": "execute_result"
    }
   ],
   "source": [
    "sub_df_3.groupby(\"department\", group_keys=False)"
   ]
  },
  {
   "cell_type": "code",
   "execution_count": 89,
   "metadata": {},
   "outputs": [
    {
     "data": {
      "text/plain": "department\nIT             0.63\nRandD          0.64\naccounting     0.64\nhr             0.63\nmanagement     0.63\nmarketing      0.64\nproduct_mng    0.64\nsales          0.64\nsupport        0.64\ntechnical      0.64\nName: last_evaluation, dtype: float64"
     },
     "execution_count": 89,
     "metadata": {},
     "output_type": "execute_result"
    }
   ],
   "source": [
    "sub_df_3.groupby(\"department\", group_keys=False)[\"last_evaluation\"].apply(lambda x:x.max()-x.min())"
   ]
  },
  {
   "cell_type": "code",
   "execution_count": 90,
   "metadata": {},
   "outputs": [
    {
     "data": {
      "text/plain": "             satisfaction_level  last_evaluation  number_project  \\\ndepartment                                                         \nIT                     0.618142         0.716830        3.816626   \nRandD                  0.619822         0.712122        3.853875   \naccounting             0.582151         0.717718        3.825293   \nhr                     0.598809         0.708850        3.654939   \nmanagement             0.621349         0.724000        3.860317   \nmarketing              0.618601         0.715886        3.687646   \nproduct_mng            0.619634         0.714756        3.807095   \nsales                  0.614447         0.709717        3.776329   \nsupport                0.618300         0.723018        3.803139   \ntechnical              0.607897         0.721099        3.877941   \n\n             average_monthly_hours  time_spend_company  Work_accident  \\\ndepartment                                                              \nIT                      202.215974            3.468623       0.133659   \nRandD                   200.800508            3.367217       0.170267   \naccounting              201.162973            3.522816       0.125163   \nhr                      198.684709            3.355886       0.120433   \nmanagement              201.249206            4.303175       0.163492   \nmarketing               199.385781            3.569930       0.160839   \nproduct_mng             199.965632            3.475610       0.146341   \nsales                   200.911353            3.534058       0.141787   \nsupport                 200.739013            3.392825       0.154709   \ntechnical               202.497426            3.411397       0.140074   \n\n                 left  promotion_last_5years  \ndepartment                                    \nIT           0.222494               0.002445  \nRandD        0.153748               0.034307  \naccounting   0.265971               0.018253  \nhr           0.290934               0.020298  \nmanagement   0.144444               0.109524  \nmarketing    0.236597               0.050117  \nproduct_mng  0.219512               0.000000  \nsales        0.244928               0.024155  \nsupport      0.249327               0.008969  \ntechnical    0.256250               0.010294  ",
      "text/html": "<div>\n<style scoped>\n    .dataframe tbody tr th:only-of-type {\n        vertical-align: middle;\n    }\n\n    .dataframe tbody tr th {\n        vertical-align: top;\n    }\n\n    .dataframe thead th {\n        text-align: right;\n    }\n</style>\n<table border=\"1\" class=\"dataframe\">\n  <thead>\n    <tr style=\"text-align: right;\">\n      <th></th>\n      <th>satisfaction_level</th>\n      <th>last_evaluation</th>\n      <th>number_project</th>\n      <th>average_monthly_hours</th>\n      <th>time_spend_company</th>\n      <th>Work_accident</th>\n      <th>left</th>\n      <th>promotion_last_5years</th>\n    </tr>\n    <tr>\n      <th>department</th>\n      <th></th>\n      <th></th>\n      <th></th>\n      <th></th>\n      <th></th>\n      <th></th>\n      <th></th>\n      <th></th>\n    </tr>\n  </thead>\n  <tbody>\n    <tr>\n      <th>IT</th>\n      <td>0.618142</td>\n      <td>0.716830</td>\n      <td>3.816626</td>\n      <td>202.215974</td>\n      <td>3.468623</td>\n      <td>0.133659</td>\n      <td>0.222494</td>\n      <td>0.002445</td>\n    </tr>\n    <tr>\n      <th>RandD</th>\n      <td>0.619822</td>\n      <td>0.712122</td>\n      <td>3.853875</td>\n      <td>200.800508</td>\n      <td>3.367217</td>\n      <td>0.170267</td>\n      <td>0.153748</td>\n      <td>0.034307</td>\n    </tr>\n    <tr>\n      <th>accounting</th>\n      <td>0.582151</td>\n      <td>0.717718</td>\n      <td>3.825293</td>\n      <td>201.162973</td>\n      <td>3.522816</td>\n      <td>0.125163</td>\n      <td>0.265971</td>\n      <td>0.018253</td>\n    </tr>\n    <tr>\n      <th>hr</th>\n      <td>0.598809</td>\n      <td>0.708850</td>\n      <td>3.654939</td>\n      <td>198.684709</td>\n      <td>3.355886</td>\n      <td>0.120433</td>\n      <td>0.290934</td>\n      <td>0.020298</td>\n    </tr>\n    <tr>\n      <th>management</th>\n      <td>0.621349</td>\n      <td>0.724000</td>\n      <td>3.860317</td>\n      <td>201.249206</td>\n      <td>4.303175</td>\n      <td>0.163492</td>\n      <td>0.144444</td>\n      <td>0.109524</td>\n    </tr>\n    <tr>\n      <th>marketing</th>\n      <td>0.618601</td>\n      <td>0.715886</td>\n      <td>3.687646</td>\n      <td>199.385781</td>\n      <td>3.569930</td>\n      <td>0.160839</td>\n      <td>0.236597</td>\n      <td>0.050117</td>\n    </tr>\n    <tr>\n      <th>product_mng</th>\n      <td>0.619634</td>\n      <td>0.714756</td>\n      <td>3.807095</td>\n      <td>199.965632</td>\n      <td>3.475610</td>\n      <td>0.146341</td>\n      <td>0.219512</td>\n      <td>0.000000</td>\n    </tr>\n    <tr>\n      <th>sales</th>\n      <td>0.614447</td>\n      <td>0.709717</td>\n      <td>3.776329</td>\n      <td>200.911353</td>\n      <td>3.534058</td>\n      <td>0.141787</td>\n      <td>0.244928</td>\n      <td>0.024155</td>\n    </tr>\n    <tr>\n      <th>support</th>\n      <td>0.618300</td>\n      <td>0.723018</td>\n      <td>3.803139</td>\n      <td>200.739013</td>\n      <td>3.392825</td>\n      <td>0.154709</td>\n      <td>0.249327</td>\n      <td>0.008969</td>\n    </tr>\n    <tr>\n      <th>technical</th>\n      <td>0.607897</td>\n      <td>0.721099</td>\n      <td>3.877941</td>\n      <td>202.497426</td>\n      <td>3.411397</td>\n      <td>0.140074</td>\n      <td>0.256250</td>\n      <td>0.010294</td>\n    </tr>\n  </tbody>\n</table>\n</div>"
     },
     "execution_count": 90,
     "metadata": {},
     "output_type": "execute_result"
    }
   ],
   "source": [
    "df.groupby(\"department\").mean()"
   ]
  },
  {
   "cell_type": "markdown",
   "metadata": {},
   "source": [
    "# 可视化"
   ]
  },
  {
   "cell_type": "code",
   "execution_count": 105,
   "metadata": {
    "collapsed": true
   },
   "outputs": [
    {
     "data": {
      "text/plain": "<Figure size 2160x1152 with 0 Axes>"
     },
     "metadata": {},
     "output_type": "display_data"
    }
   ],
   "source": [
    "sns.set_style(style=\"darkgrid\")# 配置样式\n",
    "# sns.set_context(context=\"poster\", font_scale=1) #配置字体\n",
    "plt.figure(figsize=(30,16))\n",
    "sns.set_palette(sns.color_palette(\"RdBu\", n_colors=7)) # 配置色板"
   ]
  },
  {
   "cell_type": "markdown",
   "metadata": {},
   "source": [
    "### Salary 柱状图"
   ]
  },
  {
   "cell_type": "code",
   "execution_count": 99,
   "outputs": [
    {
     "data": {
      "text/plain": "array([0.25, 1.25, 2.25])"
     },
     "execution_count": 99,
     "metadata": {},
     "output_type": "execute_result"
    }
   ],
   "source": [
    "np.arange(len(df[\"salary\"].value_counts()))+0.25"
   ],
   "metadata": {
    "collapsed": false,
    "pycharm": {
     "name": "#%%\n"
    }
   }
  },
  {
   "cell_type": "code",
   "execution_count": 106,
   "metadata": {},
   "outputs": [
    {
     "data": {
      "text/plain": "<Figure size 432x288 with 1 Axes>",
      "image/png": "[encoded data removed]"
     },
     "metadata": {},
     "output_type": "display_data"
    }
   ],
   "source": [
    "plt.title(\"Salary\")\n",
    "plt.bar(np.arange(len(df[\"salary\"].value_counts()))+0.25, df[\"salary\"].value_counts(), width=0.5)\n",
    "plt.xticks(np.arange(len(df[\"salary\"].value_counts()))+0.25, df[\"salary\"].value_counts().index)\n",
    "plt.axis([0,3,0,9000])\n",
    "plt.xlabel(\"salary\")\n",
    "plt.ylabel(\"Number\")\n",
    "for x, y in zip(np.arange(len(df[\"salary\"].value_counts()))+0.5, df[\"salary\"].value_counts()):\n",
    "    plt.text(x,y,y,ha=\"center\", va=\"bottom\")\n",
    "# plt.ylim(0, 1500)\n",
    "plt.show()\n"
   ]
  },
  {
   "cell_type": "code",
   "execution_count": 107,
   "outputs": [
    {
     "data": {
      "text/plain": "<Figure size 432x288 with 1 Axes>",
      "image/png": "[encoded data removed]"
     },
     "metadata": {},
     "output_type": "display_data"
    }
   ],
   "source": [
    "sns.countplot(x='department', hue='salary', data=df)\n",
    "plt.show()"
   ],
   "metadata": {
    "collapsed": false,
    "pycharm": {
     "name": "#%%\n"
    }
   }
  },
  {
   "cell_type": "code",
   "execution_count": 96,
   "metadata": {},
   "outputs": [
    {
     "data": {
      "text/plain": "<Figure size 432x288 with 1 Axes>",
      "image/png": "[encoded data removed]"
     },
     "metadata": {},
     "output_type": "display_data"
    }
   ],
   "source": [
    "sns.countplot(x=\"salary\", hue=\"department\",data=df)\n",
    "plt.show()"
   ]
  },
  {
   "cell_type": "markdown",
   "metadata": {},
   "source": [
    "### 分布分析图"
   ]
  },
  {
   "cell_type": "code",
   "execution_count": 108,
   "metadata": {
    "collapsed": true
   },
   "outputs": [
    {
     "data": {
      "text/plain": "<Figure size 432x288 with 3 Axes>",
      "image/png": "[encoded data removed]"
     },
     "metadata": {},
     "output_type": "display_data"
    }
   ],
   "source": [
    "f = plt.figure(0)\n",
    "f.add_subplot(1,3,1)\n",
    "sns.distplot(df[\"satisfaction_level\"], bins=10)\n",
    "f.add_subplot(1,3,2)\n",
    "sns.distplot(df[\"last_evaluation\"], bins=10)\n",
    "f.add_subplot(1,3,3)\n",
    "sns.distplot(df[\"average_monthly_hours\"], bins=10)\n",
    "plt.show()"
   ]
  },
  {
   "cell_type": "markdown",
   "metadata": {},
   "source": [
    "### 箱线图"
   ]
  },
  {
   "cell_type": "code",
   "execution_count": 109,
   "outputs": [],
   "source": [
    "?sns.boxplot"
   ],
   "metadata": {
    "collapsed": false,
    "pycharm": {
     "name": "#%%\n"
    }
   }
  },
  {
   "cell_type": "code",
   "execution_count": 110,
   "metadata": {},
   "outputs": [
    {
     "data": {
      "text/plain": "<Figure size 432x288 with 1 Axes>",
      "image/png": "[encoded data removed]"
     },
     "metadata": {},
     "output_type": "display_data"
    }
   ],
   "source": [
    "sns.boxplot(y=df[\"last_evaluation\"], saturation=0.75)\n",
    "plt.show()"
   ]
  },
  {
   "cell_type": "markdown",
   "metadata": {},
   "source": [
    "### 折线图"
   ]
  },
  {
   "cell_type": "code",
   "execution_count": 111,
   "metadata": {},
   "outputs": [
    {
     "data": {
      "text/plain": "                    satisfaction_level  last_evaluation  number_project  \\\ntime_spend_company                                                        \n2                             0.697078         0.717596        3.687423   \n3                             0.626314         0.668698        3.327592   \n4                             0.467517         0.767927        4.627689   \n5                             0.610305         0.813666        4.519348   \n6                             0.603440         0.754875        4.213092   \n7                             0.635957         0.682766        3.851064   \n8                             0.665062         0.711975        3.777778   \n10                            0.655327         0.731495        3.682243   \n\n                    average_monthly_hours  Work_accident      left  \\\ntime_spend_company                                                   \n2                              200.133169       0.172010  0.016338   \n3                              186.628492       0.138889  0.246276   \n4                              223.455221       0.124364  0.348064   \n5                              222.978955       0.116090  0.565513   \n6                              212.051532       0.149025  0.291086   \n7                              200.744681       0.138298  0.000000   \n8                              193.802469       0.271605  0.000000   \n10                             199.224299       0.233645  0.000000   \n\n                    promotion_last_5years  \ntime_spend_company                         \n2                                0.016646  \n3                                0.020795  \n4                                0.013688  \n5                                0.011541  \n6                                0.023677  \n7                                0.191489  \n8                                0.061728  \n10                               0.074766  ",
      "text/html": "<div>\n<style scoped>\n    .dataframe tbody tr th:only-of-type {\n        vertical-align: middle;\n    }\n\n    .dataframe tbody tr th {\n        vertical-align: top;\n    }\n\n    .dataframe thead th {\n        text-align: right;\n    }\n</style>\n<table border=\"1\" class=\"dataframe\">\n  <thead>\n    <tr style=\"text-align: right;\">\n      <th></th>\n      <th>satisfaction_level</th>\n      <th>last_evaluation</th>\n      <th>number_project</th>\n      <th>average_monthly_hours</th>\n      <th>Work_accident</th>\n      <th>left</th>\n      <th>promotion_last_5years</th>\n    </tr>\n    <tr>\n      <th>time_spend_company</th>\n      <th></th>\n      <th></th>\n      <th></th>\n      <th></th>\n      <th></th>\n      <th></th>\n      <th></th>\n    </tr>\n  </thead>\n  <tbody>\n    <tr>\n      <th>2</th>\n      <td>0.697078</td>\n      <td>0.717596</td>\n      <td>3.687423</td>\n      <td>200.133169</td>\n      <td>0.172010</td>\n      <td>0.016338</td>\n      <td>0.016646</td>\n    </tr>\n    <tr>\n      <th>3</th>\n      <td>0.626314</td>\n      <td>0.668698</td>\n      <td>3.327592</td>\n      <td>186.628492</td>\n      <td>0.138889</td>\n      <td>0.246276</td>\n      <td>0.020795</td>\n    </tr>\n    <tr>\n      <th>4</th>\n      <td>0.467517</td>\n      <td>0.767927</td>\n      <td>4.627689</td>\n      <td>223.455221</td>\n      <td>0.124364</td>\n      <td>0.348064</td>\n      <td>0.013688</td>\n    </tr>\n    <tr>\n      <th>5</th>\n      <td>0.610305</td>\n      <td>0.813666</td>\n      <td>4.519348</td>\n      <td>222.978955</td>\n      <td>0.116090</td>\n      <td>0.565513</td>\n      <td>0.011541</td>\n    </tr>\n    <tr>\n      <th>6</th>\n      <td>0.603440</td>\n      <td>0.754875</td>\n      <td>4.213092</td>\n      <td>212.051532</td>\n      <td>0.149025</td>\n      <td>0.291086</td>\n      <td>0.023677</td>\n    </tr>\n    <tr>\n      <th>7</th>\n      <td>0.635957</td>\n      <td>0.682766</td>\n      <td>3.851064</td>\n      <td>200.744681</td>\n      <td>0.138298</td>\n      <td>0.000000</td>\n      <td>0.191489</td>\n    </tr>\n    <tr>\n      <th>8</th>\n      <td>0.665062</td>\n      <td>0.711975</td>\n      <td>3.777778</td>\n      <td>193.802469</td>\n      <td>0.271605</td>\n      <td>0.000000</td>\n      <td>0.061728</td>\n    </tr>\n    <tr>\n      <th>10</th>\n      <td>0.655327</td>\n      <td>0.731495</td>\n      <td>3.682243</td>\n      <td>199.224299</td>\n      <td>0.233645</td>\n      <td>0.000000</td>\n      <td>0.074766</td>\n    </tr>\n  </tbody>\n</table>\n</div>"
     },
     "execution_count": 111,
     "metadata": {},
     "output_type": "execute_result"
    }
   ],
   "source": [
    "sub_df=df.groupby(\"time_spend_company\").mean()\n",
    "sub_df"
   ]
  },
  {
   "cell_type": "code",
   "execution_count": 112,
   "outputs": [
    {
     "data": {
      "text/plain": "<Figure size 432x288 with 1 Axes>",
      "image/png": "[encoded data removed]"
     },
     "metadata": {},
     "output_type": "display_data"
    }
   ],
   "source": [
    "sns.pointplot(x=\"time_spend_company\", y=\"left\", data=df)\n",
    "plt.show()"
   ],
   "metadata": {
    "collapsed": false,
    "pycharm": {
     "name": "#%%\n"
    }
   }
  },
  {
   "cell_type": "markdown",
   "metadata": {},
   "source": [
    "### 饼图"
   ]
  },
  {
   "cell_type": "code",
   "execution_count": 113,
   "metadata": {},
   "outputs": [
    {
     "data": {
      "text/plain": "<Figure size 432x288 with 1 Axes>",
      "image/png": "[encoded data removed]"
     },
     "metadata": {},
     "output_type": "display_data"
    }
   ],
   "source": [
    "lbs = df[\"department\"].value_counts().index\n",
    "explodes = [0.1 if i == \"sales\" else 0 for i in lbs]\n",
    "plt.pie(df[\"department\"].value_counts(normalize=True), explode=explodes, autopct='%1.1f%%',colors=sns.color_palette(\"Reds\", n_colors=7), labels=df[\"department\"].value_counts().index)\n",
    "plt.show()"
   ]
  },
  {
   "cell_type": "code",
   "execution_count": null,
   "outputs": [],
   "source": [],
   "metadata": {
    "collapsed": false,
    "pycharm": {
     "name": "#%%\n"
    }
   }
  }
 ],
 "metadata": {
  "kernelspec": {
   "name": "python3",
   "language": "python",
   "display_name": "Python 3"
  },
  "language_info": {
   "codemirror_mode": {
    "name": "ipython",
    "version": 3
   },
   "file_extension": ".py",
   "mimetype": "text/x-python",
   "name": "python",
   "nbconvert_exporter": "python",
   "pygments_lexer": "ipython3",
   "version": "3.6.2"
  }
 },
 "nbformat": 4,
 "nbformat_minor": 2
}